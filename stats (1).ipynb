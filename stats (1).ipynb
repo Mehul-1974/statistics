{
  "cells": [
    {
      "cell_type": "markdown",
      "source": [
        "### I. What is a random variable in probability theory?\n",
        "\n",
        "A random variable is a numerical outcome of a random phenomenon. It maps outcomes of a random experiment to numbers.\n",
        "### II. What are the types of random variables?\n",
        "\n",
        "Random variables are of two types: Discrete (finite/countable outcomes) and Continuous (infinite/unbounded outcomes).\n",
        "### III. What is the difference between discrete and continuous distributions?\n",
        "\n",
        "Discrete distributions deal with countable outcomes, while continuous distributions deal with outcomes over a range or interval.\n",
        "### IV. What are probability distribution functions (PDF)?\n",
        "\n",
        "PDF describes the likelihood of a random variable taking a specific value. For discrete variables, it's called PMF.\n",
        "### V. How do cumulative distribution functions (CDF) differ from PDF?\n",
        "\n",
        "CDF gives the probability that a variable is less than or equal to a certain value, while PDF gives the likelihood of a specific value.\n",
        "### VI. What is a discrete uniform distribution?\n",
        "\n",
        "A discrete uniform distribution assigns equal probability to all outcomes in a finite set.\n",
        "### VII. What are the key properties of a Bernoulli distribution?\n",
        "\n",
        "A Bernoulli distribution has only two outcomes (0 or 1) with probabilities p and 1-p, respectively.\n",
        "### VIII. What is the binomial distribution, and how is it used in probability?\n",
        "\n",
        "The binomial distribution models the number of successes in a fixed number of independent Bernoulli trials.\n",
        "### IX. What is the Poisson distribution and where is it applied?\n",
        "\n",
        "Poisson distribution models the number of events occurring in a fixed interval of time or space when events occur independently.\n",
        "### X. What is a continuous uniform distribution?\n",
        "\n",
        "It is a distribution where all outcomes in a range [a, b] are equally likely.\n",
        "### XI. What are the characteristics of a normal distribution?\n",
        "\n",
        "A normal distribution is symmetric, bell-shaped, and described by mean (μ) and standard deviation (σ).\n",
        "### XII. What is the standard normal distribution, and why is it important?\n",
        "\n",
        "It is a normal distribution with mean 0 and std 1. It is used to compute probabilities and perform Z-tests.\n",
        "### XIII. What is the Central Limit Theorem (CLT), and why is it critical in statistics?\n",
        "\n",
        "CLT states that the sampling distribution of the sample mean approaches normality as sample size increases, regardless of population distribution.\n",
        "### XIV. How does the Central Limit Theorem relate to the normal distribution?\n",
        "\n",
        "It justifies the use of the normal distribution to approximate sampling distributions.\n",
        "### XV. What is the application of Z statistics in hypothesis testing?\n",
        "\n",
        "Z-statistics are used to test hypotheses about population means when population variance is known.\n",
        "### XVI. How do you calculate a Z-score, and what does it represent?\n",
        "\n",
        "Z = (X - μ) / σ. It represents how many standard deviations a value is from the mean.\n",
        "### XVII. What are point estimates and interval estimates in statistics?\n",
        "\n",
        "Point estimate gives a single value estimate; interval estimate gives a range with a confidence level.\n",
        "### XVIII. What is the significance of confidence intervals in statistical analysis?\n",
        "\n",
        "Confidence intervals provide a range in which the population parameter is expected to lie with a certain probability.\n",
        "### XIX. What is the relationship between a Z-score and a confidence interval?\n",
        "\n",
        "Z-scores are used to construct confidence intervals, especially when the population standard deviation is known.\n",
        "### XX. How are Z-scores used to compare different distributions?\n",
        "\n",
        "Z-scores standardize values, allowing comparison across different distributions.\n",
        "### XXI. What are the assumptions for applying the Central Limit Theorem?\n",
        "\n",
        "Independent, identically distributed variables with finite mean and variance, and sufficient sample size.\n",
        "### XXII. What is the concept of expected value in a probability distribution?\n",
        "\n",
        "It is the mean or average outcome expected if an experiment is repeated many times.\n",
        "### XXIII. How does a probability distribution relate to the expected outcome of a random variable?\n",
        "\n",
        "Expected value is computed using the probability distribution: E(X) = Σx*P(x) for discrete variables."
      ],
      "metadata": {
        "id": "WbkLYz1sBOUu"
      },
      "id": "WbkLYz1sBOUu"
    },
    {
      "cell_type": "code",
      "execution_count": 3,
      "id": "34b42f16",
      "metadata": {
        "colab": {
          "base_uri": "https://localhost:8080/"
        },
        "id": "34b42f16",
        "outputId": "43422d3c-4e3a-4119-b3e1-2c7323cc6bfb"
      },
      "outputs": [
        {
          "output_type": "stream",
          "name": "stdout",
          "text": [
            "Random variable value: 98\n"
          ]
        }
      ],
      "source": [
        "\n",
        "\n",
        "import random\n",
        "\n",
        "# Generate a random integer between 1 and 100\n",
        "random_value = random.randint(1, 100)\n",
        "print(\"Random variable value:\", random_value)\n",
        "\n"
      ]
    },
    {
      "cell_type": "code",
      "execution_count": null,
      "id": "1c089234",
      "metadata": {
        "id": "1c089234"
      },
      "outputs": [],
      "source": [
        "\n",
        "\n",
        "import numpy as np\n",
        "import matplotlib.pyplot as plt\n",
        "from scipy.stats import randint\n",
        "\n",
        "# Discrete uniform distribution from 1 to 10\n",
        "x = np.arange(1, 11)\n",
        "pmf_vals = randint.pmf(x, 1, 11)\n",
        "\n",
        "plt.stem(x, pmf_vals, use_line_collection=True)\n",
        "plt.title('PMF of Discrete Uniform Distribution')\n",
        "plt.xlabel('x')\n",
        "plt.ylabel('PMF')\n",
        "plt.grid(True)\n",
        "plt.show()\n",
        "\n"
      ]
    },
    {
      "cell_type": "code",
      "execution_count": null,
      "id": "a9451300",
      "metadata": {
        "id": "a9451300"
      },
      "outputs": [],
      "source": [
        "\n",
        "from scipy.stats import bernoulli\n",
        "\n",
        "def bernoulli_pdf(p, x):\n",
        "    return bernoulli.pmf(x, p)\n",
        "\n",
        "# Example: p = 0.6\n",
        "for x in [0, 1]:\n",
        "    print(f\"P(X={x}) = {bernoulli_pdf(0.6, x)}\")\n",
        "\n"
      ]
    },
    {
      "cell_type": "code",
      "execution_count": null,
      "id": "7f35da95",
      "metadata": {
        "id": "7f35da95"
      },
      "outputs": [],
      "source": [
        "\n",
        "\n",
        "from scipy.stats import binom\n",
        "\n",
        "# Simulate 1000 samples\n",
        "binom_samples = binom.rvs(n=10, p=0.5, size=1000)\n",
        "\n",
        "plt.hist(binom_samples, bins=range(12), align='left', rwidth=0.8, color='skyblue', edgecolor='black')\n",
        "plt.title('Binomial Distribution Histogram (n=10, p=0.5)')\n",
        "plt.xlabel('Number of Successes')\n",
        "plt.ylabel('Frequency')\n",
        "plt.grid(True)\n",
        "plt.show()\n",
        "\n"
      ]
    },
    {
      "cell_type": "code",
      "execution_count": null,
      "id": "68ef9c4c",
      "metadata": {
        "id": "68ef9c4c"
      },
      "outputs": [],
      "source": [
        "\n",
        "\n",
        "from scipy.stats import poisson\n",
        "\n",
        "mu = 3  # Mean of the distribution\n",
        "x = np.arange(0, 10)\n",
        "pmf_vals = poisson.pmf(x, mu)\n",
        "\n",
        "plt.stem(x, pmf_vals, use_line_collection=True)\n",
        "plt.title('PMF of Poisson Distribution (mu=3)')\n",
        "plt.xlabel('x')\n",
        "plt.ylabel('PMF')\n",
        "plt.grid(True)\n",
        "plt.show()\n",
        "\n"
      ]
    },
    {
      "cell_type": "code",
      "execution_count": null,
      "id": "f19c97da",
      "metadata": {
        "id": "f19c97da"
      },
      "outputs": [],
      "source": [
        "\n",
        "\n",
        "cdf_vals = randint.cdf(x, 1, 11)\n",
        "\n",
        "plt.step(x, cdf_vals, where='mid')\n",
        "plt.title('CDF of Discrete Uniform Distribution')\n",
        "plt.xlabel('x')\n",
        "plt.ylabel('CDF')\n",
        "plt.grid(True)\n",
        "plt.show()\n",
        "\n"
      ]
    },
    {
      "cell_type": "code",
      "execution_count": null,
      "id": "415cb11d",
      "metadata": {
        "id": "415cb11d"
      },
      "outputs": [],
      "source": [
        "\n",
        "\n",
        "from scipy.stats import uniform\n",
        "\n",
        "samples = uniform.rvs(size=1000)\n",
        "\n",
        "plt.hist(samples, bins=20, density=True, edgecolor='black')\n",
        "plt.title('Histogram of Continuous Uniform Distribution')\n",
        "plt.xlabel('Value')\n",
        "plt.ylabel('Density')\n",
        "plt.grid(True)\n",
        "plt.show()\n",
        "\n"
      ]
    },
    {
      "cell_type": "code",
      "execution_count": null,
      "id": "30a75be1",
      "metadata": {
        "id": "30a75be1"
      },
      "outputs": [],
      "source": [
        "\n",
        "\n",
        "normal_data = np.random.normal(loc=0, scale=1, size=1000)\n",
        "\n",
        "plt.hist(normal_data, bins=30, edgecolor='black')\n",
        "plt.title('Normal Distribution Histogram')\n",
        "plt.xlabel('Value')\n",
        "plt.ylabel('Frequency')\n",
        "plt.grid(True)\n",
        "plt.show()\n",
        "\n"
      ]
    },
    {
      "cell_type": "code",
      "execution_count": null,
      "id": "ce10e3ad",
      "metadata": {
        "id": "ce10e3ad"
      },
      "outputs": [],
      "source": [
        "\n",
        "\n",
        "from scipy.stats import zscore\n",
        "\n",
        "data = np.random.normal(10, 2, 100)\n",
        "z_scores = zscore(data)\n",
        "\n",
        "plt.plot(z_scores, marker='o')\n",
        "plt.title('Z-scores of Dataset')\n",
        "plt.xlabel('Index')\n",
        "plt.ylabel('Z-score')\n",
        "plt.grid(True)\n",
        "plt.show()\n",
        "\n"
      ]
    },
    {
      "cell_type": "code",
      "execution_count": null,
      "id": "1bb17cd3",
      "metadata": {
        "id": "1bb17cd3"
      },
      "outputs": [],
      "source": [
        "\n",
        "sample_means = []\n",
        "for _ in range(1000):\n",
        "    sample = np.random.exponential(scale=2.0, size=30)\n",
        "    sample_means.append(np.mean(sample))\n",
        "\n",
        "plt.hist(sample_means, bins=30, edgecolor='black')\n",
        "plt.title('CLT using Exponential Distribution')\n",
        "plt.xlabel('Sample Mean')\n",
        "plt.ylabel('Frequency')\n",
        "plt.grid(True)\n",
        "plt.show()\n",
        "\n"
      ]
    },
    {
      "cell_type": "code",
      "execution_count": null,
      "id": "d2d6937e",
      "metadata": {
        "id": "d2d6937e"
      },
      "outputs": [],
      "source": [
        "\n",
        "\n",
        "x = np.linspace(-4, 4, 1000)\n",
        "pdf = (1/np.sqrt(2*np.pi)) * np.exp(-0.5 * x**2)\n",
        "\n",
        "plt.plot(x, pdf)\n",
        "plt.title('Standard Normal Distribution PDF')\n",
        "plt.xlabel('x')\n",
        "plt.ylabel('PDF')\n",
        "plt.grid(True)\n",
        "plt.show()\n",
        "\n"
      ]
    },
    {
      "cell_type": "code",
      "execution_count": null,
      "id": "0857b661",
      "metadata": {
        "id": "0857b661"
      },
      "outputs": [],
      "source": [
        "\n",
        "\n",
        "n, p = 10, 0.5\n",
        "x = np.arange(0, n+1)\n",
        "probs = binom.pmf(x, n, p)\n",
        "\n",
        "for i, prob in zip(x, probs):\n",
        "    print(f\"P(X={i}) = {prob:.4f}\")\n",
        "\n"
      ]
    },
    {
      "cell_type": "code",
      "execution_count": null,
      "id": "bcff507b",
      "metadata": {
        "id": "bcff507b"
      },
      "outputs": [],
      "source": [
        "\n",
        "\n",
        "data_point = 75\n",
        "mean = 70\n",
        "std_dev = 5\n",
        "z = (data_point - mean) / std_dev\n",
        "print(f\"Z-score: {z}\")\n",
        "\n",
        "# Compare to standard normal\n",
        "print(f\"Probability to the left of {data_point}: {norm.cdf(z):.4f}\")\n",
        "\n"
      ]
    },
    {
      "cell_type": "code",
      "execution_count": null,
      "id": "c753d269",
      "metadata": {
        "id": "c753d269"
      },
      "outputs": [],
      "source": [
        "\n",
        "\n",
        "# Sample data\n",
        "sample_mean = 52\n",
        "population_mean = 50\n",
        "std_dev = 10\n",
        "n = 30\n",
        "\n",
        "z_stat = (sample_mean - population_mean) / (std_dev / np.sqrt(n))\n",
        "print(f\"Z-statistic: {z_stat}\")\n",
        "print(f\"P-value: {2 * (1 - norm.cdf(abs(z_stat)))}\")\n",
        "\n"
      ]
    },
    {
      "cell_type": "code",
      "execution_count": null,
      "id": "87ed27c3",
      "metadata": {
        "id": "87ed27c3"
      },
      "outputs": [],
      "source": [
        "\n",
        "\n",
        "import scipy.stats as stats\n",
        "\n",
        "data = np.random.normal(100, 15, 50)\n",
        "mean = np.mean(data)\n",
        "std_err = stats.sem(data)\n",
        "conf_int = stats.t.interval(0.95, len(data)-1, loc=mean, scale=std_err)\n",
        "print(\"Confidence Interval (95%):\", conf_int)\n",
        "\n"
      ]
    },
    {
      "cell_type": "code",
      "execution_count": null,
      "id": "100db772",
      "metadata": {
        "id": "100db772"
      },
      "outputs": [],
      "source": [
        "\n",
        "\n",
        "data = np.random.normal(loc=50, scale=10, size=100)\n",
        "mean = np.mean(data)\n",
        "stderr = stats.sem(data)\n",
        "conf = stats.norm.interval(0.95, loc=mean, scale=stderr)\n",
        "print(\"95% Confidence Interval:\", conf)\n",
        "\n"
      ]
    },
    {
      "cell_type": "code",
      "execution_count": null,
      "id": "c827cf65",
      "metadata": {
        "id": "c827cf65"
      },
      "outputs": [],
      "source": [
        "\n",
        "\n",
        "x = np.linspace(-5, 5, 1000)\n",
        "pdf_vals = norm.pdf(x)\n",
        "\n",
        "plt.plot(x, pdf_vals)\n",
        "plt.title('Normal Distribution PDF')\n",
        "plt.xlabel('x')\n",
        "plt.ylabel('PDF')\n",
        "plt.grid(True)\n",
        "plt.show()\n",
        "\n"
      ]
    },
    {
      "cell_type": "code",
      "execution_count": null,
      "id": "64f95cd0",
      "metadata": {
        "id": "64f95cd0"
      },
      "outputs": [],
      "source": [
        "\n",
        "\n",
        "x = np.arange(0, 10)\n",
        "cdf_vals = poisson.cdf(x, mu=3)\n",
        "\n",
        "plt.step(x, cdf_vals, where='mid')\n",
        "plt.title('Poisson Distribution CDF')\n",
        "plt.xlabel('x')\n",
        "plt.ylabel('CDF')\n",
        "plt.grid(True)\n",
        "plt.show()\n",
        "\n"
      ]
    },
    {
      "cell_type": "code",
      "execution_count": null,
      "id": "6876b056",
      "metadata": {
        "id": "6876b056"
      },
      "outputs": [],
      "source": [
        "\n",
        "\n",
        "samples = uniform.rvs(loc=0, scale=10, size=1000)\n",
        "expected_value = np.mean(samples)\n",
        "print(\"Expected Value:\", expected_value)\n",
        "\n"
      ]
    },
    {
      "cell_type": "code",
      "execution_count": null,
      "id": "29f1eff5",
      "metadata": {
        "id": "29f1eff5"
      },
      "outputs": [],
      "source": [
        "\n",
        "\n",
        "data1 = np.random.normal(50, 5, 100)\n",
        "data2 = np.random.normal(50, 10, 100)\n",
        "\n",
        "std1 = np.std(data1)\n",
        "std2 = np.std(data2)\n",
        "\n",
        "plt.hist(data1, alpha=0.5, label='std=5')\n",
        "plt.hist(data2, alpha=0.5, label='std=10')\n",
        "plt.legend()\n",
        "plt.title('Comparison of Standard Deviations')\n",
        "plt.xlabel('Value')\n",
        "plt.ylabel('Frequency')\n",
        "plt.grid(True)\n",
        "plt.show()\n",
        "\n",
        "print(\"Standard Deviations:\", std1, std2)\n",
        "\n"
      ]
    },
    {
      "cell_type": "code",
      "execution_count": null,
      "id": "11e2eb18",
      "metadata": {
        "id": "11e2eb18"
      },
      "outputs": [],
      "source": [
        "\n",
        "\n",
        "data = np.random.normal(100, 15, 100)\n",
        "range_val = np.ptp(data)\n",
        "iqr_val = stats.iqr(data)\n",
        "print(\"Range:\", range_val)\n",
        "print(\"Interquartile Range (IQR):\", iqr_val)\n",
        "\n"
      ]
    },
    {
      "cell_type": "code",
      "execution_count": null,
      "id": "70d109b5",
      "metadata": {
        "id": "70d109b5"
      },
      "outputs": [],
      "source": [
        "\n",
        "\n",
        "data = np.random.normal(60, 10, 100)\n",
        "normalized_data = zscore(data)\n",
        "\n",
        "plt.hist(normalized_data, bins=30, edgecolor='black')\n",
        "plt.title('Z-score Normalized Data')\n",
        "plt.xlabel('Z-score')\n",
        "plt.ylabel('Frequency')\n",
        "plt.grid(True)\n",
        "plt.show()\n",
        "\n"
      ]
    },
    {
      "cell_type": "code",
      "execution_count": null,
      "id": "187f6556",
      "metadata": {
        "id": "187f6556"
      },
      "outputs": [],
      "source": [
        "\n",
        "\n",
        "from scipy.stats import skew, kurtosis\n",
        "\n",
        "data = np.random.normal(0, 1, 1000)\n",
        "print(\"Skewness:\", skew(data))\n",
        "print(\"Kurtosis:\", kurtosis(data))\n",
        "\n"
      ]
    }
  ],
  "metadata": {
    "colab": {
      "provenance": []
    },
    "language_info": {
      "name": "python"
    },
    "kernelspec": {
      "name": "python3",
      "display_name": "Python 3"
    }
  },
  "nbformat": 4,
  "nbformat_minor": 5
}